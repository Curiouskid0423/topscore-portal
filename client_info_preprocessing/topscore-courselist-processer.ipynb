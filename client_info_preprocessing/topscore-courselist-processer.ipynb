{
 "cells": [
  {
   "cell_type": "markdown",
   "metadata": {},
   "source": [
    "# Convert course table to JavaScript objects\n",
    "<hr/>\n",
    "\n",
    "**Current Problem**: Timestamp cannot be processed. Trick for now: make time all zero."
   ]
  },
  {
   "cell_type": "code",
   "execution_count": 206,
   "metadata": {},
   "outputs": [],
   "source": [
    "import pandas as pd\n",
    "import numpy as np\n",
    "import json\n",
    "import moment\n",
    "import random"
   ]
  },
  {
   "cell_type": "code",
   "execution_count": 207,
   "metadata": {
    "scrolled": true
   },
   "outputs": [],
   "source": [
    "NROWS = 58 # read in number\n",
    "data = pd.read_csv('topscore_portal_upload_form__g11.csv', nrows=NROWS)\n",
    "data.columns = ['college', 'email', 'firstName', 'lastName', 'studentID', \n",
    "                'graduationYear', 'highSchool', 'phone','isApply', 'isCourse', \n",
    "                'isPlan', 'parentName', 'parentEmail', 'parentPhone', 'relationship']\n",
    "data = data[2:] # Remove the first line of column names, and the second line of example entry"
   ]
  },
  {
   "cell_type": "code",
   "execution_count": 208,
   "metadata": {},
   "outputs": [],
   "source": [
    "# Hard code the default \"content\" info.\n",
    "\n",
    "todayDate = 1609430400000 # Jan 1st 2021\n",
    "\n",
    "courseInstance0 = {\n",
    "    \"type\": \"INIT\",\n",
    "    \"courseName\": \"INIT_COURSE\",\n",
    "    \"instructor\": \"Developer\",\n",
    "    \"startDate\": todayDate,\n",
    "    \"repeatBy\": \"days\",\n",
    "    \"repeatTimes\": 1\n",
    "}\n",
    "\n",
    "reportCardInstance0 = {\n",
    "    \"id\": \"000\",\n",
    "    \"type\": \"SAT\",\n",
    "    \"title\": \"PLACEHOLDER\",\n",
    "    \"testDate\": todayDate,\n",
    "    \"sourceLink\": \"https://www.ets.org/toefl\",\n",
    "}\n",
    "\n",
    "contentsDefault = {\n",
    "        \"partOverview\": {\n",
    "            \"atAGlance\": {\n",
    "                \"notice\": \"Notes about students, family info, sibling info...etc.\",\n",
    "            },\n",
    "        },\n",
    "        \"partCore\": {\n",
    "            \"currentCourseList\": [],\n",
    "            \"pastCourseList\": [courseInstance0]\n",
    "        },\n",
    "        \"partCompass\": {\n",
    "            \"summary\": \"(Default Message) Part 1: Summary Placeholder\",\n",
    "            \"improvement\": \"(Default Message) Part 2: Improve Placeholder\",\n",
    "            \"goalSetting\": \"(Default Message) Part 3: Goals Placeholder\",\n",
    "            \"engagement\": \"(Default Message) Part 4: Engagement Placeholder\",\n",
    "            \"gradesAndTests\": \"(Default Message) Part 5: Grades and Tests Placeholder\",\n",
    "            \"activities\": \"(Default Message) Part 6: Activities Placeholder\",\n",
    "            \"achievement\": \"(Default Message) Part 6.5: Achievements Placeholder\",\n",
    "            \"toDoList\": \"(Default Message) Part 7: To Do List Placeholder\"\n",
    "        },\n",
    "        \"partMentor\": {\n",
    "            \"testInfo\": \"\",\n",
    "            \"collegeList\": \"\",\n",
    "            \"optionals\": \"\"\n",
    "        },\n",
    "        \"partReport\": {\n",
    "            \"SATreport\": [],\n",
    "            \"TOEFLreport\": [reportCardInstance0]\n",
    "        }\n",
    "}"
   ]
  },
  {
   "cell_type": "code",
   "execution_count": 213,
   "metadata": {},
   "outputs": [],
   "source": [
    "def preprocessEntry(data_src, index):\n",
    "    entry = {}\n",
    "    for num in range(len(data_src.iloc[index])):\n",
    "        value, col_name = data_src.iloc[index][num], data_src.columns[num]\n",
    "        if pd.isnull(value):\n",
    "            value = 'N/A'\n",
    "        elif col_name.startswith('is'):\n",
    "            value = True if value == \"TRUE\" else False\n",
    "        entry[str(col_name)] = value\n",
    "    return entry"
   ]
  },
  {
   "cell_type": "code",
   "execution_count": 219,
   "metadata": {},
   "outputs": [],
   "source": [
    "def createContactJSON(data, entryNumber, todayDate=1609430400000):\n",
    "    \"\"\" Create Json Helper Method (todayDate = 2021/01/01) \"\"\"\n",
    "    entry = preprocessEntry(data, entryNumber)\n",
    "    \n",
    "    return {\n",
    "        \"contact\" : {\n",
    "            \"attendedCollege\" : entry[\"college\"],\n",
    "            \"email\" : entry[\"email\"],\n",
    "            \"family\" : {\n",
    "              \"email\" : entry[\"parentEmail\"],\n",
    "              \"parent\" : entry[\"parentName\"],\n",
    "              \"phone\" : entry[\"parentPhone\"],\n",
    "              \"relationship\" : entry[\"relationship\"]\n",
    "            },\n",
    "            \"firstName\" : entry[\"firstName\"],\n",
    "            \"graduationYear\" : int(entry[\"graduationYear\"]),\n",
    "            \"highSchool\" : entry[\"highSchool\"],\n",
    "            \"lastName\" : entry[\"lastName\"],\n",
    "            \"packageType\" : {\n",
    "              \"apply\" : entry[\"isApply\"],\n",
    "              \"course\" : entry[\"isCourse\"],\n",
    "              \"planning\" : entry[\"isPlan\"]\n",
    "            },\n",
    "            \"personOfRecommendation\" : \"\",\n",
    "            \"phone\" : entry[\"phone\"],\n",
    "            \"preTestResult\" : {\n",
    "              \"date\" : todayDate,\n",
    "              \"essay\" : \"\",\n",
    "              \"math\" : \"\",\n",
    "              \"reading\" : \"\",\n",
    "              \"writing\" : \"\"\n",
    "            },\n",
    "            \"recordOfFirstAppt\" : \"\",\n",
    "            \"specialId\" : {\n",
    "              \"isBlackList\" : False,\n",
    "              \"isVIP\" : False\n",
    "            },\n",
    "            \"studentID\" : entry[\"studentID\"]\n",
    "          }\n",
    "    }"
   ]
  },
  {
   "cell_type": "code",
   "execution_count": 220,
   "metadata": {
    "scrolled": true
   },
   "outputs": [
    {
     "data": {
      "text/plain": [
       "{'contact': {'attendedCollege': 'N/A',\n",
       "  'email': '072292iris@gmail.com',\n",
       "  'family': {'email': 'CHEN7STAR@gmail.com',\n",
       "   'parent': '陳怡伶',\n",
       "   'phone': '0905-513-977',\n",
       "   'relationship': '媽媽'},\n",
       "  'firstName': 'Iris',\n",
       "  'graduationYear': 2022,\n",
       "  'highSchool': 'AST',\n",
       "  'lastName': '張瀛云',\n",
       "  'packageType': {'apply': False, 'course': True, 'planning': False},\n",
       "  'personOfRecommendation': '',\n",
       "  'phone': '0965-076-299',\n",
       "  'preTestResult': {'date': 1609430400000,\n",
       "   'essay': '',\n",
       "   'math': '',\n",
       "   'reading': '',\n",
       "   'writing': ''},\n",
       "  'recordOfFirstAppt': '',\n",
       "  'specialId': {'isBlackList': False, 'isVIP': False},\n",
       "  'studentID': '220403'},\n",
       " 'content': {'partOverview': {'atAGlance': {'notice': 'Notes about students, family info, sibling info...etc.'}},\n",
       "  'partCore': {'currentCourseList': [],\n",
       "   'pastCourseList': [{'type': 'INIT',\n",
       "     'courseName': 'INIT_COURSE',\n",
       "     'instructor': 'Developer',\n",
       "     'startDate': 1609430400000,\n",
       "     'repeatBy': 'days',\n",
       "     'repeatTimes': 1}]},\n",
       "  'partCompass': {'summary': '(Default Message) Part 1: Summary Placeholder',\n",
       "   'improvement': '(Default Message) Part 2: Improve Placeholder',\n",
       "   'goalSetting': '(Default Message) Part 3: Goals Placeholder',\n",
       "   'engagement': '(Default Message) Part 4: Engagement Placeholder',\n",
       "   'gradesAndTests': '(Default Message) Part 5: Grades and Tests Placeholder',\n",
       "   'activities': '(Default Message) Part 6: Activities Placeholder',\n",
       "   'achievement': '(Default Message) Part 6.5: Achievements Placeholder',\n",
       "   'toDoList': '(Default Message) Part 7: To Do List Placeholder'},\n",
       "  'partMentor': {'testInfo': '', 'collegeList': '', 'optionals': ''},\n",
       "  'partReport': {'SATreport': [],\n",
       "   'TOEFLreport': [{'id': '000',\n",
       "     'type': 'SAT',\n",
       "     'title': 'PLACEHOLDER',\n",
       "     'testDate': 1609430400000,\n",
       "     'sourceLink': 'https://www.ets.org/toefl'}]}},\n",
       " 'supervisor': ''}"
      ]
     },
     "execution_count": 220,
     "metadata": {},
     "output_type": "execute_result"
    }
   ],
   "source": [
    "def createJSON(data, entryNumber, content, supervisor=\"\"):\n",
    "    obj = createContactJSON(data, entryNumber)\n",
    "    obj[\"content\"] = content\n",
    "    obj[\"supervisor\"] = supervisor\n",
    "    return obj\n",
    "# Test\n",
    "createJSON(data, 12, contentsDefault)"
   ]
  },
  {
   "cell_type": "code",
   "execution_count": 221,
   "metadata": {},
   "outputs": [],
   "source": [
    "file_path = \"studentsList.json\"\n",
    "exportJSON = open(file_path, \"w\", encoding=\"utf-8\")\n",
    "exportJSON.write(\"{\")\n",
    "        \n",
    "def processData(rows, data_src, content, seed=10):\n",
    "    random.seed(10)\n",
    "    for i in range(rows):\n",
    "        json_block = createJSON(data_src, i, content)\n",
    "        block_id = \"MAN\" + str(random.randint(1e9, 9999999999)) # MAN = Manual Upload\n",
    "        # Ensure Chinese characters are preserved.\n",
    "        json_finalized = json.dumps(json_block, ensure_ascii=False).encode('utf8')\n",
    "        exportJSON.write(json.dumps(block_id) + \": \")\n",
    "        exportJSON.write(json_finalized.decode(\"utf-8\"))\n",
    "        if i < rows-1:\n",
    "            exportJSON.write(\",\")\n",
    "\n",
    "processData(rows=len(data), data_src=data, content=contentsDefault)\n",
    "exportJSON.write(\"}\")\n",
    "\n",
    "exportJSON.close()"
   ]
  },
  {
   "cell_type": "markdown",
   "metadata": {},
   "source": [
    "## Testing"
   ]
  },
  {
   "cell_type": "code",
   "execution_count": 218,
   "metadata": {},
   "outputs": [
    {
     "name": "stdout",
     "output_type": "stream",
     "text": [
      "2012-12-18T00:00:00+08.00\n",
      "1590969600\n"
     ]
    }
   ],
   "source": [
    "# Experimenting Moment module\n",
    "\n",
    "momentObj = moment.date(\"12-18-2012\", \"MM-DD-YYYY\")\n",
    "momentObj2 = moment.date(\"6-1-2020\", \"MM-DD-YYYY\").epoch()\n",
    "print(momentObj)\n",
    "print(momentObj2)"
   ]
  },
  {
   "cell_type": "code",
   "execution_count": null,
   "metadata": {},
   "outputs": [],
   "source": []
  }
 ],
 "metadata": {
  "kernelspec": {
   "display_name": "Python 3",
   "language": "python",
   "name": "python3"
  },
  "language_info": {
   "codemirror_mode": {
    "name": "ipython",
    "version": 3
   },
   "file_extension": ".py",
   "mimetype": "text/x-python",
   "name": "python",
   "nbconvert_exporter": "python",
   "pygments_lexer": "ipython3",
   "version": "3.6.9"
  }
 },
 "nbformat": 4,
 "nbformat_minor": 2
}
